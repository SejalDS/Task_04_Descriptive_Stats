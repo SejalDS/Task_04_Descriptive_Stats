{
 "cells": [
  {
   "cell_type": "code",
   "execution_count": null,
   "id": "cb1d1cf2",
   "metadata": {},
   "outputs": [
    {
     "name": "stdout",
     "output_type": "stream",
     "text": [
      "✅ Facebook posts analysis CSVs saved.\n"
     ]
    }
   ],
   "source": [
    "\n",
    "import polars as pl\n",
    "\n",
    "# Load dataset\n",
    "df = pl.read_csv(\"2024_fb_posts_president_scored_anon.csv\")\n",
    "\n",
    "# Deduplicate columns\n",
    "seen = set()\n",
    "deduped_cols = [col for col in df.columns if not (col in seen or seen.add(col))]\n",
    "df = df.select([pl.col(c) for c in deduped_cols])\n",
    "\n",
    "#  Numeric Summary \n",
    "numeric_df = df.select(pl.col(pl.Float64, pl.Int64))\n",
    "numeric_summary = numeric_df.describe()\n",
    "numeric_summary.write_csv(\"fb_posts_numeric_summary.csv\")\n",
    "\n",
    "#   Non-Numeric Summary  \n",
    "non_numeric_df = df.select(pl.col(pl.Utf8))\n",
    "non_numeric_rows = []\n",
    "for col in non_numeric_df.columns:\n",
    "    unique_count = df.select(pl.col(col).n_unique()).item()\n",
    "    vc = df.select(pl.col(col).value_counts()).unnest(col)\n",
    "    if vc.height > 0:\n",
    "        most_common_val = vc[0, col]\n",
    "        most_common_count = vc[0, \"count\"]\n",
    "    else:\n",
    "        most_common_val = None\n",
    "        most_common_count = 0\n",
    "\n",
    "    non_numeric_rows.append({\n",
    "        \"column\": col,\n",
    "        \"unique_values\": unique_count,\n",
    "        \"most_frequent_value\": most_common_val,\n",
    "        \"frequency\": most_common_count\n",
    "    })\n",
    "pl.DataFrame(non_numeric_rows).write_csv(\"fb_posts_non_numeric_summary.csv\")\n",
    "\n",
    "#   Group by Facebook_Id  \n",
    "if \"Facebook_Id\" in df.columns and \"Total Interactions\" in df.columns:\n",
    "    grouped_by_fbid = df.group_by(\"Facebook_Id\").agg([\n",
    "        pl.len().alias(\"post_count\"),\n",
    "        pl.col(\"Total Interactions\").mean().alias(\"avg_interactions\"),\n",
    "        pl.col(\"Total Interactions\").min().alias(\"min_interactions\"),\n",
    "        pl.col(\"Total Interactions\").max().alias(\"max_interactions\")\n",
    "    ])\n",
    "    grouped_by_fbid.write_csv(\"fb_posts_grouped_by_facebook_id.csv\")\n",
    "\n",
    "#   Group by Facebook_Id and post_id  \n",
    "if all(col in df.columns for col in [\"Facebook_Id\", \"post_id\", \"Total Interactions\"]):\n",
    "    grouped_by_fbid_post = df.group_by([\"Facebook_Id\", \"post_id\"]).agg([\n",
    "        pl.len().alias(\"entry_count\"),\n",
    "        pl.col(\"Total Interactions\").mean().alias(\"avg_interactions\"),\n",
    "        pl.col(\"Total Interactions\").min().alias(\"min_interactions\"),\n",
    "        pl.col(\"Total Interactions\").max().alias(\"max_interactions\")\n",
    "    ])\n",
    "    grouped_by_fbid_post.write_csv(\"fb_posts_grouped_by_facebook_post.csv\")\n",
    "\n",
    "print(\"✅ Facebook posts analysis CSVs saved.\")"
   ]
  }
 ],
 "metadata": {
  "kernelspec": {
   "display_name": "base",
   "language": "python",
   "name": "python3"
  },
  "language_info": {
   "codemirror_mode": {
    "name": "ipython",
    "version": 3
   },
   "file_extension": ".py",
   "mimetype": "text/x-python",
   "name": "python",
   "nbconvert_exporter": "python",
   "pygments_lexer": "ipython3",
   "version": "3.11.7"
  }
 },
 "nbformat": 4,
 "nbformat_minor": 5
}
